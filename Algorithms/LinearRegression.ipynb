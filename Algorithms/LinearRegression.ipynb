{
 "cells": [
  {
   "cell_type": "code",
   "execution_count": 1,
   "metadata": {},
   "outputs": [],
   "source": [
    "# this section deals with the application of Linear Regression on the dataset of house price prediction."
   ]
  },
  {
   "cell_type": "code",
   "execution_count": 73,
   "metadata": {},
   "outputs": [],
   "source": [
    "# import statements\n",
    "import numpy as np\n",
    "import pandas as pd\n",
    "import seaborn as sns\n",
    "from sklearn.model_selection import train_test_split\n",
    "from sklearn.linear_model import LinearRegression\n",
    "import matplotlib.pyplot as plt\n",
    "from sklearn.preprocessing import LabelEncoder\n",
    "from sklearn.preprocessing import MinMaxScaler\n",
    "from sklearn.preprocessing import StandardScaler\n",
    "\n",
    "\n",
    "%matplotlib inline"
   ]
  },
  {
   "cell_type": "code",
   "execution_count": 104,
   "metadata": {},
   "outputs": [],
   "source": [
    "# LOADING THE DATA\n",
    "data = pd.read_csv('../Datasets/LinearRegression/insurance.csv')"
   ]
  },
  {
   "cell_type": "code",
   "execution_count": 105,
   "metadata": {},
   "outputs": [],
   "source": [
    "# APPLYING LABEL ENCODER\n",
    "\n",
    "# categorical values to numerical values\n",
    "number = LabelEncoder()\n",
    "data['sex'] = number.fit_transform(data['sex'].astype('str'))\n",
    "data['smoker'] = number.fit_transform(data['smoker'].astype('str'))\n",
    "data['region'] = number.fit_transform(data['region'].astype('str'))\n",
    "\n",
    "#print(data)"
   ]
  },
  {
   "cell_type": "code",
   "execution_count": 106,
   "metadata": {},
   "outputs": [],
   "source": [
    "# APPLYING FEATURE SCALING ON DATA\n",
    "scaling_data = data[['age', 'bmi', 'charges']]\n",
    "\n",
    "\n",
    "# APPLYING MIN-MAX SCALER\n",
    "min_max_scaler = MinMaxScaler(feature_range=(0, 1))\n",
    "x_min_max_scaler = min_max_scaler.fit_transform(scaling_data)\n",
    "data[['age', 'bmi', 'charges']] = x_min_max_scaler\n",
    "\n",
    "# APPLYING STANDARD SCALER\n",
    "standardisation = StandardScaler()\n",
    "x_standardisation = standardisation.fit_transform(scaling_data)\n",
    "data[['age', 'bmi', 'charges']] = x_standardisation\n"
   ]
  },
  {
   "cell_type": "code",
   "execution_count": 58,
   "metadata": {},
   "outputs": [],
   "source": [
    "# seperate the features and labels of data\n",
    "X = data[['age', 'sex', 'bmi', 'children', 'smoker', 'region']]\n",
    "y = data[['charges']]\n",
    "\n",
    "#splitting the data into training and testing set\n",
    "X_train, X_test, y_train, y_test = train_test_split(X, y, test_size=0.25, random_state=42, shuffle=True)"
   ]
  },
  {
   "cell_type": "code",
   "execution_count": 59,
   "metadata": {},
   "outputs": [
    {
     "name": "stdout",
     "output_type": "stream",
     "text": [
      "Index(['age', 'sex', 'bmi', 'children', 'smoker', 'region', 'charges'], dtype='object')\n"
     ]
    }
   ],
   "source": [
    "#print(data.head())\n",
    "print(data.columns)"
   ]
  },
  {
   "cell_type": "code",
   "execution_count": 160,
   "metadata": {},
   "outputs": [],
   "source": [
    "# VISUALIZATION OF DATA\n",
    "numerical = ['age', 'bmi', 'charges']\n",
    "categorical = ['sex', 'children', 'smoker']\n",
    "\n",
    "\n",
    "\n",
    "\n",
    "# ANALYSE NUMERICAL VARIABLES WITH HISTOGRAMS\n",
    "\n",
    "# HISTOGRAM (age)\n",
    "# sns.set(style='whitegrid', palette='deep', font_scale=1.1, rc={\"figure.figsize\": [8, 5]})\n",
    "# sns.distplot(\n",
    "#     data['age'], norm_hist=False, kde=True, bins=20, hist_kws={\"alpha\": 1}\n",
    "# ).set(xlabel='age', ylabel='count')\n",
    "\n",
    "# HISTOGRAM (bmi)\n",
    "# sns.set(style='whitegrid', palette='pastel', font_scale=1.1, rc={'figure.figsize': [8, 5]})\n",
    "# sns.distplot(\n",
    "#     data['bmi'], norm_hist=False, kde=True, bins=20, hist_kws={'alpha': 1}\n",
    "# ).set(xlabel='bmi', ylabel='count')\n",
    "\n",
    "# HISTOGRAM (charges)\n",
    "# sns.set(style='whitegrid', palette='deep', font_scale=1.1, rc={'figure.figsize': [8, 5]})\n",
    "# sns.distplot(\n",
    "#     data['charges'], norm_hist=False, kde=False, bins=20, hist_kws={'alpha': 1}\n",
    "# ).set(xlabel='charges', ylabel='count')\n",
    "\n",
    "# creating histogram for all numerical features\n",
    "#data[numerical].hist(bins=15, figsize=(15, 6), layout=(2, 4));\n",
    "\n",
    "\n",
    "\n",
    "\n",
    "\n",
    "# ANALYSE CATEGORICAL VARIABLES WITH COUNT PLOTS\n",
    "\n",
    "# COUNT-PLOT OR BAR-PLOT\n",
    "#sns.countplot(data['sex']);\n",
    "\n",
    "# COUNT-PLOT OR BAR-PLOT\n",
    "#sns.countplot(data['children']);\n",
    "\n",
    "# COUNT-PLOT OR BAR-PLOT\n",
    "#sns.countplot(data['smoker']);\n",
    "\n",
    "# COUNT-PLOT OR BAR-PLOT\n",
    "# fig, ax = plt.subplots(1, 3, figsize=(400, 100))\n",
    "# for variable, subplot in zip(categorical, ax.flatten()):\n",
    "#     sns.countplot(data[variable], ax=subplot)\n",
    "#     for label in subplot.get_xticklabels():\n",
    "#         label.set_rotation(90)\n",
    "\n",
    "\n",
    "\n",
    "\n",
    "\n",
    "# ANALYSE RELATIONSHIP BETWEEN NUMERICAL VARIABLES SCATTER PLOT, JOINT PLOT AND PAIR PLOT\n",
    "\n",
    "\n",
    "\n",
    "# ANALYSE RELATIONSHIP BETWEEN NUMERICAL AND CATEGORICAL VARIABLES WITH BOX AND WHISKER PLOTS AND COMPLEX CONDITIONAL PLOTS\n",
    "\n"
   ]
  },
  {
   "cell_type": "code",
   "execution_count": null,
   "metadata": {},
   "outputs": [],
   "source": []
  },
  {
   "cell_type": "code",
   "execution_count": 101,
   "metadata": {},
   "outputs": [],
   "source": [
    "#data_for_scaling = data[['age', 'bmi', 'charges']]\n",
    "#print(data_for_scaling)\n",
    "#print(array)"
   ]
  },
  {
   "cell_type": "code",
   "execution_count": 103,
   "metadata": {},
   "outputs": [],
   "source": [
    "#print(data)"
   ]
  },
  {
   "cell_type": "code",
   "execution_count": null,
   "metadata": {},
   "outputs": [],
   "source": []
  }
 ],
 "metadata": {
  "kernelspec": {
   "display_name": "Python 3",
   "language": "python",
   "name": "python3"
  },
  "language_info": {
   "codemirror_mode": {
    "name": "ipython",
    "version": 3
   },
   "file_extension": ".py",
   "mimetype": "text/x-python",
   "name": "python",
   "nbconvert_exporter": "python",
   "pygments_lexer": "ipython3",
   "version": "3.7.4"
  }
 },
 "nbformat": 4,
 "nbformat_minor": 2
}
